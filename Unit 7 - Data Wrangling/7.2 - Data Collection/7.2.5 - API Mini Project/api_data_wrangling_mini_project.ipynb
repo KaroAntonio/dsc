{
  "cells": [
    {
      "cell_type": "markdown",
      "metadata": {
        "id": "view-in-github",
        "colab_type": "text"
      },
      "source": [
        "<a href=\"https://colab.research.google.com/github/KaroAntonio/dsc/blob/master/Unit%207%20-%20Data%20Wrangling/7.2%20-%20Data%20Collection/7.2.5%20-%20API%20Mini%20Project/api_data_wrangling_mini_project.ipynb\" target=\"_parent\"><img src=\"https://colab.research.google.com/assets/colab-badge.svg\" alt=\"Open In Colab\"/></a>"
      ]
    },
    {
      "cell_type": "markdown",
      "source": [
        "This exercise will require you to pull some data from https://data.nasdaq.com/ (formerly Quandl API)."
      ],
      "metadata": {
        "id": "xWgMMHvWpxff"
      }
    },
    {
      "cell_type": "markdown",
      "source": [
        "As a first step, you will need to register a free account on the https://data.nasdaq.com/ website."
      ],
      "metadata": {
        "id": "HvAAEkOopxfh"
      }
    },
    {
      "cell_type": "markdown",
      "source": [
        "After you register, you will be provided with a unique API key, that you should store:\n",
        "\n",
        "*Note*: Use a `.env` file and put your key in there and `python-dotenv` to access it in this notebook.\n",
        "\n",
        "The code below uses a key that was used when generating this project but has since been deleted. Never submit your keys to source control. There is a `.env-example` file in this repository to illusrtate what you need. Copy that to a file called `.env` and use your own api key in that `.env` file. Make sure you also have a `.gitignore` file with a line for `.env` added to it.\n",
        "\n",
        "The standard Python gitignore is [here](https://github.com/github/gitignore/blob/master/Python.gitignore) you can just copy that."
      ],
      "metadata": {
        "id": "n7iJIWlBpxfh"
      }
    },
    {
      "cell_type": "code",
      "source": [
        "import os\n",
        "# Set environment variable\n",
        "os.environ['NASDAQ_API_KEY'] = '{INSERT API KEY}'"
      ],
      "metadata": {
        "id": "hauruXOKp0xH"
      },
      "execution_count": null,
      "outputs": []
    },
    {
      "cell_type": "code",
      "source": [
        "!pip install python-dotenv"
      ],
      "metadata": {
        "colab": {
          "base_uri": "https://localhost:8080/"
        },
        "id": "uBWxJH-wrjAz",
        "outputId": "8dd10b0d-d981-4aab-a30e-82a9ca46dcc1"
      },
      "execution_count": 4,
      "outputs": [
        {
          "output_type": "stream",
          "name": "stdout",
          "text": [
            "Collecting python-dotenv\n",
            "  Downloading python_dotenv-1.0.1-py3-none-any.whl (19 kB)\n",
            "Installing collected packages: python-dotenv\n",
            "Successfully installed python-dotenv-1.0.1\n"
          ]
        }
      ]
    },
    {
      "cell_type": "code",
      "execution_count": 12,
      "source": [
        "# get api key from your .env file\n",
        "import os\n",
        "from dotenv import load_dotenv\n",
        "\n",
        "load_dotenv()\n",
        "API_KEY = os.getenv('NASDAQ_API_KEY')\n",
        "\n",
        "print(API_KEY)"
      ],
      "outputs": [
        {
          "output_type": "stream",
          "name": "stdout",
          "text": [
            "8CRvUPRspihqovCq7B2x\n"
          ]
        }
      ],
      "metadata": {
        "colab": {
          "base_uri": "https://localhost:8080/"
        },
        "id": "r3cEBsRSpxfi",
        "outputId": "8276635c-4fa1-4ce8-e552-391ab21fe0fa"
      }
    },
    {
      "cell_type": "markdown",
      "source": [
        "Nasdaq Data has a large number of data sources, but, unfortunately, most of them require a Premium subscription. Still, there are also a good number of free datasets."
      ],
      "metadata": {
        "id": "UAGr265ipxfi"
      }
    },
    {
      "cell_type": "markdown",
      "source": [
        "For this mini project, we will focus on equities data from the Frankfurt Stock Exhange (FSE), which is available for free. We'll try and analyze the stock prices of a company called Carl Zeiss Meditec, which manufactures tools for eye examinations, as well as medical lasers for laser eye surgery: https://www.zeiss.com/meditec/int/home.html. The company is listed under the stock ticker AFX_X."
      ],
      "metadata": {
        "id": "ya23dcCppxfj"
      }
    },
    {
      "cell_type": "markdown",
      "source": [
        "You can find the detailed Nasdaq Data API instructions here: https://docs.data.nasdaq.com/docs/in-depth-usage"
      ],
      "metadata": {
        "id": "fg8Cz1oSpxfj"
      }
    },
    {
      "cell_type": "markdown",
      "source": [
        "While there is a dedicated Python package for connecting to the Nasdaq API, we would prefer that you use the *requests* package, which can be easily downloaded using *pip* or *conda*. You can find the documentation for the package here: http://docs.python-requests.org/en/master/"
      ],
      "metadata": {
        "id": "9hxBvB3fpxfj"
      }
    },
    {
      "cell_type": "markdown",
      "source": [
        "Finally, apart from the *requests* package, you are encouraged to not use any third party Python packages, such as *pandas*, and instead focus on what's available in the Python Standard Library (the *collections* module might come in handy: https://pymotw.com/3/collections/).\n",
        "Also, since you won't have access to DataFrames, you are encouraged to us Python's native data structures - preferably dictionaries, though some questions can also be answered using lists.\n",
        "You can read more on these data structures here: https://docs.python.org/3/tutorial/datastructures.html"
      ],
      "metadata": {
        "id": "SVMNj9-Vpxfj"
      }
    },
    {
      "cell_type": "markdown",
      "source": [
        "Keep in mind that the JSON responses you will be getting from the API map almost one-to-one to Python's dictionaries. Unfortunately, they can be very nested, so make sure you read up on indexing dictionaries in the documentation provided above."
      ],
      "metadata": {
        "id": "zV3Kp2wxpxfj"
      }
    },
    {
      "cell_type": "code",
      "execution_count": 14,
      "source": [
        "# First, import the relevant modules\n",
        "\n",
        "import requests\n",
        "import json"
      ],
      "outputs": [],
      "metadata": {
        "id": "jCng6hEdpxfj"
      }
    },
    {
      "cell_type": "markdown",
      "source": [
        "Note: API's can change a bit with each version, for this exercise it is reccomended to use the nasdaq api at `https://data.nasdaq.com/api/v3/`. This is the same api as what used to be quandl so `https://www.quandl.com/api/v3/` should work too.\n",
        "\n",
        "Hint: We are looking for the `AFX_X` data on the `datasets/FSE/` dataset."
      ],
      "metadata": {
        "id": "QlmOcYjIpxfj"
      }
    },
    {
      "cell_type": "code",
      "execution_count": null,
      "source": [
        "# Now, call the Nasdaq API and pull out a small sample of the data (only one day) to get a glimpse\n",
        "# into the JSON structure that will be returned"
      ],
      "outputs": [],
      "metadata": {
        "id": "TH-f0pE1pxfj"
      }
    },
    {
      "cell_type": "code",
      "source": [
        "TICKER = 'AFX_X'\n",
        "GET_REQUEST_STR = f'https://data.nasdaq.com/api/v3/datasets/FSE/{TICKER}/data.json?api_key={API_KEY}'\n",
        "print(GET_REQUEST_STR)"
      ],
      "metadata": {
        "id": "Rp_h19eftF8s"
      },
      "execution_count": null,
      "outputs": []
    },
    {
      "cell_type": "code",
      "source": [
        "# Make a GET request to the NASDAQ API\n",
        "response = requests.get(GET_REQUEST_STR)\n",
        "\n",
        "# Check if the request was successful\n",
        "if response.status_code == 200:\n",
        "    print(response.json())\n",
        "else:\n",
        "    print('Error:', response.status_code)"
      ],
      "metadata": {
        "id": "alRemaahtYo0"
      },
      "execution_count": null,
      "outputs": []
    },
    {
      "cell_type": "code",
      "source": [
        "response_json = response.json()\n",
        "\n",
        "# Explore response json\n",
        "print(response_json['dataset_data'].keys())\n",
        "print('Num Datapoints: ',len(response_json['dataset_data']['data']))\n",
        "print('Columns: ',response_json['dataset_data']['column_names'])\n",
        "print('Example Datapoint: ', response_json['dataset_data']['data'][0])\n"
      ],
      "metadata": {
        "colab": {
          "base_uri": "https://localhost:8080/"
        },
        "id": "UDOvSSBmwD68",
        "outputId": "50cf2ca7-5fa8-449e-ca9a-65d29c56f626"
      },
      "execution_count": 37,
      "outputs": [
        {
          "output_type": "stream",
          "name": "stdout",
          "text": [
            "dict_keys(['limit', 'transform', 'column_index', 'column_names', 'start_date', 'end_date', 'frequency', 'data', 'collapse', 'order'])\n",
            "Num Datapoints:  5268\n",
            "Columns:  ['Date', 'Open', 'High', 'Low', 'Close', 'Change', 'Traded Volume', 'Turnover', 'Last Price of the Day', 'Daily Traded Units', 'Daily Turnover']\n",
            "Example Datapoint:  ['2020-12-01', 112.2, 112.2, 111.5, 112.0, None, 51.0, 5703.0, None, None, None]\n"
          ]
        }
      ]
    },
    {
      "cell_type": "code",
      "execution_count": null,
      "source": [
        "# Inspect the JSON structure of the object you created, and take note of how nested it is,\n",
        "# as well as the overall structure"
      ],
      "outputs": [
        {
          "output_type": "execute_result",
          "data": {
            "text/plain": [
              "{'dataset': {'id': 10095370,\n",
              "  'dataset_code': 'AFX_X',\n",
              "  'database_code': 'FSE',\n",
              "  'name': 'Carl Zeiss Meditec (AFX_X)',\n",
              "  'description': 'Stock Prices for Carl Zeiss Meditec (2020-11-02) from the Frankfurt Stock Exchange.<br><br>Trading System: Xetra<br><br>ISIN: DE0005313704',\n",
              "  'refreshed_at': '2020-12-01T14:48:09.907Z',\n",
              "  'newest_available_date': '2020-12-01',\n",
              "  'oldest_available_date': '2000-06-07',\n",
              "  'column_names': ['Date',\n",
              "   'Open',\n",
              "   'High',\n",
              "   'Low',\n",
              "   'Close',\n",
              "   'Change',\n",
              "   'Traded Volume',\n",
              "   'Turnover',\n",
              "   'Last Price of the Day',\n",
              "   'Daily Traded Units',\n",
              "   'Daily Turnover'],\n",
              "  'frequency': 'daily',\n",
              "  'type': 'Time Series',\n",
              "  'premium': False,\n",
              "  'limit': None,\n",
              "  'transform': None,\n",
              "  'column_index': None,\n",
              "  'start_date': '2021-01-03',\n",
              "  'end_date': '2020-12-01',\n",
              "  'data': [],\n",
              "  'collapse': None,\n",
              "  'order': None,\n",
              "  'database_id': 6129}}"
            ]
          },
          "metadata": {},
          "execution_count": 4
        }
      ],
      "metadata": {
        "id": "GBgPt7Bdpxfj",
        "outputId": "0ee75b91-082e-4d6d-ec41-6271a52297e2"
      }
    },
    {
      "cell_type": "markdown",
      "source": [
        "These are your tasks for this mini project:\n",
        "\n",
        "1. Collect data from the Franfurt Stock Exchange, for the ticker AFX_X, for the whole year 2017 (keep in mind that the date format is YYYY-MM-DD).\n",
        "2. Convert the returned JSON object into a Python dictionary.\n",
        "3. Calculate what the highest and lowest opening prices were for the stock in this period.\n",
        "4. What was the largest change in any one day (based on High and Low price)?\n",
        "5. What was the largest change between any two days (based on Closing Price)?\n",
        "6. What was the average daily trading volume during this year?\n",
        "7. (Optional) What was the median trading volume during this year. (Note: you may need to implement your own function for calculating the median.)"
      ],
      "metadata": {
        "id": "6ExwSNsdpxfk"
      }
    },
    {
      "cell_type": "code",
      "execution_count": 39,
      "source": [
        "# Set up Stock Data Vars\n",
        "date_idx = 0\n",
        "open_idx = 1\n",
        "high_idx = 2\n",
        "low_idx = 3\n",
        "close_idx = 4\n",
        "change_idx = 5\n",
        "volume_idx = 6\n",
        "turnover_idx = 7\n",
        "last_price_idx = 8\n",
        "daily_units_idx = 9\n",
        "daily_turnover_idx = 10\n",
        "\n",
        "data = response_json['dataset_data']['data']"
      ],
      "outputs": [],
      "metadata": {
        "id": "NJN-_4e_pxfk"
      }
    },
    {
      "cell_type": "code",
      "execution_count": 48,
      "source": [
        "# 1. Collect data from the Franfurt Stock Exchange, for the ticker AFX_X, for the whole year 2017 (keep in mind that the date format is YYYY-MM-DD)\n",
        "\n",
        "data_2017 = [d for d in data if d[date_idx][:4] == '2017']"
      ],
      "outputs": [
        {
          "output_type": "execute_result",
          "data": {
            "text/plain": [
              "'2017-01-02'"
            ],
            "application/vnd.google.colaboratory.intrinsic+json": {
              "type": "string"
            }
          },
          "metadata": {},
          "execution_count": 48
        }
      ],
      "metadata": {
        "colab": {
          "base_uri": "https://localhost:8080/",
          "height": 35
        },
        "id": "MI4HzcfKpxfk",
        "outputId": "6d470927-abd1-4f72-fff6-ed3cfef17e2a"
      }
    },
    {
      "cell_type": "code",
      "source": [
        "# 2. Convert the returned JSON object into a Python dictionary.\n",
        "type(response_json)"
      ],
      "metadata": {
        "colab": {
          "base_uri": "https://localhost:8080/"
        },
        "id": "eZY6zpy9ygq3",
        "outputId": "f4d0660e-da01-493c-fd18-1e6afb2c392a"
      },
      "execution_count": 49,
      "outputs": [
        {
          "output_type": "execute_result",
          "data": {
            "text/plain": [
              "dict"
            ]
          },
          "metadata": {},
          "execution_count": 49
        }
      ]
    },
    {
      "cell_type": "code",
      "source": [
        "# 3. Calculate what the highest and lowest opening prices were for the stock in this period.\n",
        "\n",
        "max_open = max([d[open_idx] for d in data_2017 if d[open_idx]])\n",
        "min_open = min([d[open_idx] for d in data_2017 if d[open_idx]])\n",
        "\n",
        "print(f'Max Open: {max_open}')\n",
        "print(f'Min Open: {min_open}')"
      ],
      "metadata": {
        "colab": {
          "base_uri": "https://localhost:8080/"
        },
        "id": "ceI_l8E4yt4I",
        "outputId": "cd0ea4f8-ddbd-4597-9dee-2264fe9e297f"
      },
      "execution_count": 53,
      "outputs": [
        {
          "output_type": "stream",
          "name": "stdout",
          "text": [
            "Max Open: 53.11\n",
            "Min Open: 34.0\n"
          ]
        }
      ]
    },
    {
      "cell_type": "code",
      "source": [
        "# 4. What was the largest change in any one day (based on High and Low price)?\n",
        "\n",
        "largest_change = max([d[high_idx] - d[low_idx] for d in data_2017])\n",
        "print(f'Largest Change: {largest_change}')"
      ],
      "metadata": {
        "colab": {
          "base_uri": "https://localhost:8080/"
        },
        "id": "0QCQp-rbzPsi",
        "outputId": "6571859e-7647-4e20-e072-171c2ffd4700"
      },
      "execution_count": 55,
      "outputs": [
        {
          "output_type": "stream",
          "name": "stdout",
          "text": [
            "Largest Change: 2.8100000000000023\n"
          ]
        }
      ]
    },
    {
      "cell_type": "code",
      "source": [
        "# 5. What was the largest change between any two days (based on Closing Price)?\n",
        "\n",
        "max_close = max([d[close_idx] for d in data_2017 if d[open_idx]])\n",
        "min_close = min([d[close_idx] for d in data_2017 if d[open_idx]])\n",
        "\n",
        "largest_change_close = max_close - min_close\n",
        "print(f'Largest change between any two days: {largest_change_close}')"
      ],
      "metadata": {
        "colab": {
          "base_uri": "https://localhost:8080/"
        },
        "id": "PYnCL98kzaDd",
        "outputId": "298447be-4640-4f73-91b8-10d12d2928b7"
      },
      "execution_count": 56,
      "outputs": [
        {
          "output_type": "stream",
          "name": "stdout",
          "text": [
            "Largest change between any two days: 19.03\n"
          ]
        }
      ]
    },
    {
      "cell_type": "code",
      "source": [
        "# 6. What was the average daily trading volume during this year?\n",
        "\n",
        "total_volume = sum([d[volume_idx] for d in data_2017])\n",
        "n_days = len(data_2017)\n",
        "\n",
        "avg_volume = total_volume / n_days\n",
        "\n",
        "print(f'Avg Daily Volume: {avg_volume}')"
      ],
      "metadata": {
        "colab": {
          "base_uri": "https://localhost:8080/"
        },
        "id": "iymyaOnO0KQ6",
        "outputId": "94214544-defa-4e4f-cdff-54f0c86a81d3"
      },
      "execution_count": 57,
      "outputs": [
        {
          "output_type": "stream",
          "name": "stdout",
          "text": [
            "Avg Daily Volume: 89124.33725490196\n"
          ]
        }
      ]
    },
    {
      "cell_type": "code",
      "source": [
        "# 7. (Optional) What was the median trading volume during this year. (Note: you may need to implement your own function for calculating the median.)\n",
        "\n",
        "volume_list = [d[volume_idx] for d in data_2017]\n",
        "sorted_volumes = sorted(volume_list)\n",
        "\n",
        "def median(lst):\n",
        "  n = len(lst)\n",
        "  if n < 1:\n",
        "    return None\n",
        "  if n % 2 == 1:\n",
        "    return lst[n//2]\n",
        "  else:\n",
        "    return (lst[n//2 - 1] + lst[n//2]) / 2\n",
        "\n",
        "median_volume = median(sorted_volumes)\n",
        "\n",
        "print(f'Median Volume: {median_volume}')\n"
      ],
      "metadata": {
        "colab": {
          "base_uri": "https://localhost:8080/"
        },
        "id": "injeOiol0o6Y",
        "outputId": "41eca66c-614f-47fd-b3b0-22122d743820"
      },
      "execution_count": 68,
      "outputs": [
        {
          "output_type": "stream",
          "name": "stdout",
          "text": [
            "Median Volume: 76286.0\n"
          ]
        }
      ]
    }
  ],
  "metadata": {
    "kernelspec": {
      "name": "python3",
      "display_name": "Python 3.8.1 64-bit ('dsc_v5_solutions-7Q1D_Dt-': venv)"
    },
    "language_info": {
      "codemirror_mode": {
        "name": "ipython",
        "version": 3
      },
      "file_extension": ".py",
      "mimetype": "text/x-python",
      "name": "python",
      "nbconvert_exporter": "python",
      "pygments_lexer": "ipython3",
      "version": "3.8.1"
    },
    "interpreter": {
      "hash": "7635eb1b9d0fe97add78a7368b6b431c09bb8ad5c42e437d64abdd99821c31ae"
    },
    "colab": {
      "provenance": [],
      "include_colab_link": true
    }
  },
  "nbformat": 4,
  "nbformat_minor": 0
}